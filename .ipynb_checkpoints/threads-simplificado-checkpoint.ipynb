{
 "cells": [
  {
   "cell_type": "markdown",
   "id": "88bfea06",
   "metadata": {},
   "source": [
    "#### Capítulo 7 - Gerenciamento de Processos\n",
    "\n",
    "aula 7.5 - Exemplo de Threads"
   ]
  },
  {
   "cell_type": "code",
   "execution_count": null,
   "id": "5bff106f",
   "metadata": {},
   "outputs": [],
   "source": [
    "from time import sleep.perf_counter\n",
    "\n",
    "def task():\n",
    "    print(\"Iniciando a tarefa!\")\n",
    "    sleep(1)\n",
    "    print(\"Feito!\")"
   ]
  }
 ],
 "metadata": {
  "kernelspec": {
   "display_name": "Python 3 (ipykernel)",
   "language": "python",
   "name": "python3"
  },
  "language_info": {
   "codemirror_mode": {
    "name": "ipython",
    "version": 3
   },
   "file_extension": ".py",
   "mimetype": "text/x-python",
   "name": "python",
   "nbconvert_exporter": "python",
   "pygments_lexer": "ipython3",
   "version": "3.10.9"
  }
 },
 "nbformat": 4,
 "nbformat_minor": 5
}
