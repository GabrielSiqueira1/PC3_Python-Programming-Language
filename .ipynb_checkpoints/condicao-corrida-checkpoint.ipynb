{
 "cells": [
  {
   "cell_type": "code",
   "execution_count": 1,
   "id": "1e674ef0",
   "metadata": {},
   "outputs": [],
   "source": [
    "from threading import Thread as th"
   ]
  },
  {
   "cell_type": "code",
   "execution_count": 2,
   "id": "c376ee42",
   "metadata": {},
   "outputs": [
    {
     "name": "stdout",
     "output_type": "stream",
     "text": [
      "O valor de x é 0\n"
     ]
    }
   ],
   "source": [
    "x = 0\n",
    "\n",
    "def plus():\n",
    "    global x\n",
    "    for i in range(0, 100000):\n",
    "        x+=1\n",
    "def minus():\n",
    "    global x\n",
    "    for i in range(0, 100000):\n",
    "        x-=1\n",
    "\n",
    "t1 = th(target=plus)\n",
    "t2 = th(target=minus)\n",
    "\n",
    "t1.start()\n",
    "t2.start()\n",
    "\n",
    "t1.join()\n",
    "t2.join()\n",
    "\n",
    "print(f\"O valor de x é {x}\")"
   ]
  }
 ],
 "metadata": {
  "kernelspec": {
   "display_name": "Python 3 (ipykernel)",
   "language": "python",
   "name": "python3"
  },
  "language_info": {
   "codemirror_mode": {
    "name": "ipython",
    "version": 3
   },
   "file_extension": ".py",
   "mimetype": "text/x-python",
   "name": "python",
   "nbconvert_exporter": "python",
   "pygments_lexer": "ipython3",
   "version": "3.10.9"
  }
 },
 "nbformat": 4,
 "nbformat_minor": 5
}
