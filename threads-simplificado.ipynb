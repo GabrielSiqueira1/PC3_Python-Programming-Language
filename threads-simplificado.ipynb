{
 "cells": [
  {
   "cell_type": "markdown",
   "id": "f4980a22",
   "metadata": {},
   "source": [
    "#### Capítulo 7 - Gerenciamento de Processos\n",
    "\n",
    "aula 7.5 - Exemplo de Threads"
   ]
  },
  {
   "cell_type": "code",
   "execution_count": 3,
   "id": "0d6245b9",
   "metadata": {},
   "outputs": [
    {
     "name": "stdout",
     "output_type": "stream",
     "text": [
      "Iniciando a tarefa!\n",
      "Feito!\n",
      "Iniciando a tarefa!\n",
      "Feito!\n",
      " tempo de execução  2.01 segundos\n"
     ]
    }
   ],
   "source": [
    "from time import sleep,perf_counter\n",
    "\n",
    "def task():\n",
    "    print(\"Iniciando a tarefa!\")\n",
    "    sleep(1)\n",
    "    print(\"Feito!\")\n",
    "\n",
    "start_time = perf_counter()\n",
    "\n",
    "task()\n",
    "task()\n",
    "\n",
    "end_time = perf_counter()\n",
    "\n",
    "print(f\" tempo de execução {end_time - start_time: 0.2f} segundos\")"
   ]
  },
  {
   "cell_type": "code",
   "execution_count": 4,
   "id": "767ca6c5",
   "metadata": {},
   "outputs": [
    {
     "name": "stdout",
     "output_type": "stream",
     "text": [
      "Iniciando a tarefa!\n",
      "Iniciando a tarefa!\n",
      "Feito!\n",
      "Feito!\n",
      " tempo de execução  1.01 segundos\n"
     ]
    }
   ],
   "source": [
    "from time import sleep, perf_counter\n",
    "from threading import Thread\n",
    "\n",
    "def task():\n",
    "    print(\"Iniciando a tarefa!\")\n",
    "    sleep(1)\n",
    "    print(\"Feito!\")\n",
    "    \n",
    "start_time = perf_counter()\n",
    "\n",
    "t1 = Thread(target=task)\n",
    "t2 = Thread(target=task)\n",
    "\n",
    "t1.start()\n",
    "t2.start()\n",
    "\n",
    "t1.join()\n",
    "t2.join()\n",
    "\n",
    "end_time = perf_counter()\n",
    "\n",
    "print(f\" tempo de execução {end_time - start_time: 0.2f} segundos\")"
   ]
  }
 ],
 "metadata": {
  "kernelspec": {
   "display_name": "Python 3 (ipykernel)",
   "language": "python",
   "name": "python3"
  },
  "language_info": {
   "codemirror_mode": {
    "name": "ipython",
    "version": 3
   },
   "file_extension": ".py",
   "mimetype": "text/x-python",
   "name": "python",
   "nbconvert_exporter": "python",
   "pygments_lexer": "ipython3",
   "version": "3.10.9"
  }
 },
 "nbformat": 4,
 "nbformat_minor": 5
}
